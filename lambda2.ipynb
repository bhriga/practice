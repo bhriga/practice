{
 "cells": [
  {
   "cell_type": "code",
   "execution_count": 1,
   "id": "ab3ccc8e-1d33-4c1c-8e99-1a0417fa9f8e",
   "metadata": {},
   "outputs": [],
   "source": [
    "n=3\n",
    "p=2\n"
   ]
  },
  {
   "cell_type": "code",
   "execution_count": 2,
   "id": "fea7964f-15b7-47b4-ad32-32de5227754c",
   "metadata": {},
   "outputs": [],
   "source": [
    "def test(n,p):\n",
    "    return n**p"
   ]
  },
  {
   "cell_type": "code",
   "execution_count": 3,
   "id": "23767649-d627-457d-ae93-ab194d20e64d",
   "metadata": {},
   "outputs": [
    {
     "data": {
      "text/plain": [
       "9"
      ]
     },
     "execution_count": 3,
     "metadata": {},
     "output_type": "execute_result"
    }
   ],
   "source": [
    "test(3,2)"
   ]
  },
  {
   "cell_type": "code",
   "execution_count": 5,
   "id": "d229011f-7112-4a60-ada2-d6b06689fe93",
   "metadata": {},
   "outputs": [],
   "source": [
    "a=lambda n,p:n**p"
   ]
  },
  {
   "cell_type": "code",
   "execution_count": 6,
   "id": "2d4b2775-cb9c-4c74-aad7-53ce950103c0",
   "metadata": {},
   "outputs": [
    {
     "data": {
      "text/plain": [
       "9"
      ]
     },
     "execution_count": 6,
     "metadata": {},
     "output_type": "execute_result"
    }
   ],
   "source": [
    "a(3,2)"
   ]
  },
  {
   "cell_type": "code",
   "execution_count": 7,
   "id": "c0454d4f-ea87-4982-96f6-4b7a1e9e2b92",
   "metadata": {},
   "outputs": [],
   "source": [
    "add =lambda x,y:x+y"
   ]
  },
  {
   "cell_type": "code",
   "execution_count": 8,
   "id": "b2cc41ad-80ef-4e29-81c2-d8e6a7c94f6c",
   "metadata": {},
   "outputs": [
    {
     "data": {
      "text/plain": [
       "5"
      ]
     },
     "execution_count": 8,
     "metadata": {},
     "output_type": "execute_result"
    }
   ],
   "source": [
    "add(3,2)"
   ]
  },
  {
   "cell_type": "code",
   "execution_count": 12,
   "id": "9cceb88d-4c2a-4523-a358-313c903ae0e5",
   "metadata": {},
   "outputs": [],
   "source": [
    "c_to_f = lambda c:(9/5)*c+32\n"
   ]
  },
  {
   "cell_type": "code",
   "execution_count": 13,
   "id": "127f2520-26cd-453e-82e1-8560d92e5030",
   "metadata": {},
   "outputs": [
    {
     "data": {
      "text/plain": [
       "113.0"
      ]
     },
     "execution_count": 13,
     "metadata": {},
     "output_type": "execute_result"
    }
   ],
   "source": [
    "c_to_f(45)"
   ]
  },
  {
   "cell_type": "code",
   "execution_count": 17,
   "id": "eec89d98-5377-43c8-812d-c9e808c58d19",
   "metadata": {},
   "outputs": [],
   "source": [
    "finding_max = lambda x,y : x if x>y else y"
   ]
  },
  {
   "cell_type": "code",
   "execution_count": 18,
   "id": "2d124cfe-3396-45e4-b6ee-56e45ee1b4f8",
   "metadata": {},
   "outputs": [
    {
     "data": {
      "text/plain": [
       "87"
      ]
     },
     "execution_count": 18,
     "metadata": {},
     "output_type": "execute_result"
    }
   ],
   "source": [
    "finding_max(23,87)"
   ]
  },
  {
   "cell_type": "code",
   "execution_count": 19,
   "id": "8f5fdd1e-8dd7-4b32-8e87-cd9ccdd28bfb",
   "metadata": {},
   "outputs": [],
   "source": [
    "s=\"pwskills\""
   ]
  },
  {
   "cell_type": "code",
   "execution_count": 22,
   "id": "6b710743-d7ff-4a85-acd6-721f1f652564",
   "metadata": {},
   "outputs": [],
   "source": [
    "length=lambda s:len(s)"
   ]
  },
  {
   "cell_type": "code",
   "execution_count": 23,
   "id": "45569390-d1ee-4b9e-b82b-7e4e98224e7f",
   "metadata": {},
   "outputs": [
    {
     "data": {
      "text/plain": [
       "8"
      ]
     },
     "execution_count": 23,
     "metadata": {},
     "output_type": "execute_result"
    }
   ],
   "source": [
    "length(s)"
   ]
  },
  {
   "cell_type": "code",
   "execution_count": null,
   "id": "80a87c6a-a041-45b0-9aa7-8550054ec730",
   "metadata": {},
   "outputs": [],
   "source": []
  },
  {
   "cell_type": "code",
   "execution_count": null,
   "id": "784f6015-60c4-4b46-afb4-ce90d5e385a3",
   "metadata": {},
   "outputs": [],
   "source": []
  }
 ],
 "metadata": {
  "kernelspec": {
   "display_name": "Python 3 (ipykernel)",
   "language": "python",
   "name": "python3"
  },
  "language_info": {
   "codemirror_mode": {
    "name": "ipython",
    "version": 3
   },
   "file_extension": ".py",
   "mimetype": "text/x-python",
   "name": "python",
   "nbconvert_exporter": "python",
   "pygments_lexer": "ipython3",
   "version": "3.10.8"
  }
 },
 "nbformat": 4,
 "nbformat_minor": 5
}
