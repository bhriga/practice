{
 "cells": [
  {
   "cell_type": "code",
   "execution_count": 74,
   "id": "713dfca6-9d31-4275-bd51-e4a3b6f0b4e2",
   "metadata": {},
   "outputs": [],
   "source": [
    "a=1"
   ]
  },
  {
   "cell_type": "code",
   "execution_count": 75,
   "id": "1a6ff1a3-cbc8-4a44-9186-00017e44800a",
   "metadata": {},
   "outputs": [
    {
     "name": "stdout",
     "output_type": "stream",
     "text": [
      "<class 'int'>\n"
     ]
    }
   ],
   "source": [
    "print(type(a))"
   ]
  },
  {
   "cell_type": "code",
   "execution_count": 76,
   "id": "d13315b1-08e1-41e1-99d6-6d15177259fa",
   "metadata": {},
   "outputs": [
    {
     "name": "stdout",
     "output_type": "stream",
     "text": [
      "<class 'str'>\n"
     ]
    }
   ],
   "source": [
    "print(type(\"string\"))"
   ]
  },
  {
   "cell_type": "code",
   "execution_count": 77,
   "id": "4e55c3a8-e827-472b-93e8-e273bf17f2dc",
   "metadata": {},
   "outputs": [
    {
     "ename": "SyntaxError",
     "evalue": "incomplete input (3527747674.py, line 1)",
     "output_type": "error",
     "traceback": [
      "\u001b[0;36m  Cell \u001b[0;32mIn[77], line 1\u001b[0;36m\u001b[0m\n\u001b[0;31m    class test:\u001b[0m\n\u001b[0m               ^\u001b[0m\n\u001b[0;31mSyntaxError\u001b[0m\u001b[0;31m:\u001b[0m incomplete input\n"
     ]
    }
   ],
   "source": [
    "class test:"
   ]
  },
  {
   "cell_type": "code",
   "execution_count": null,
   "id": "f6f855df-6cc6-4c4b-9206-745a3e9a0667",
   "metadata": {},
   "outputs": [],
   "source": [
    "class test:\n",
    "    pass"
   ]
  },
  {
   "cell_type": "code",
   "execution_count": null,
   "id": "d67b745d-ece9-4aa5-99d1-82c3dd9f7aa7",
   "metadata": {},
   "outputs": [],
   "source": [
    "a=test()"
   ]
  },
  {
   "cell_type": "code",
   "execution_count": null,
   "id": "20ccd709-6a5f-40ee-a3d8-7b830410b899",
   "metadata": {},
   "outputs": [],
   "source": [
    "type(a)"
   ]
  },
  {
   "cell_type": "code",
   "execution_count": null,
   "id": "5e6e7183-a1c2-4198-b083-2cbaecc4037b",
   "metadata": {},
   "outputs": [],
   "source": [
    "print(type(a))"
   ]
  },
  {
   "cell_type": "code",
   "execution_count": null,
   "id": "4a75ec70-76ff-4791-9736-94e0651943c2",
   "metadata": {},
   "outputs": [],
   "source": [
    "class pwskills:\n",
    "    \n",
    "    def welcome_msg(self):\n",
    "        print(\"welcome to pwskills\")"
   ]
  },
  {
   "cell_type": "code",
   "execution_count": null,
   "id": "783a2ced-0fd3-44ba-bb3e-3fba0af59cc2",
   "metadata": {},
   "outputs": [],
   "source": [
    "rohan=pwskills()"
   ]
  },
  {
   "cell_type": "code",
   "execution_count": 78,
   "id": "1f2370bb-0e27-47d7-91d7-3f03807eb4fb",
   "metadata": {},
   "outputs": [
    {
     "name": "stdout",
     "output_type": "stream",
     "text": [
      "<class '__main__.pwskills1'>\n"
     ]
    }
   ],
   "source": [
    "print(type(rohan))"
   ]
  },
  {
   "cell_type": "code",
   "execution_count": 79,
   "id": "2e6b5b97-74ef-4294-b317-42508624663d",
   "metadata": {},
   "outputs": [
    {
     "ename": "AttributeError",
     "evalue": "'pwskills1' object has no attribute 'welcome_msg'",
     "output_type": "error",
     "traceback": [
      "\u001b[0;31m---------------------------------------------------------------------------\u001b[0m",
      "\u001b[0;31mAttributeError\u001b[0m                            Traceback (most recent call last)",
      "Cell \u001b[0;32mIn[79], line 1\u001b[0m\n\u001b[0;32m----> 1\u001b[0m \u001b[43mrohan\u001b[49m\u001b[38;5;241;43m.\u001b[39;49m\u001b[43mwelcome_msg\u001b[49m()\n",
      "\u001b[0;31mAttributeError\u001b[0m: 'pwskills1' object has no attribute 'welcome_msg'"
     ]
    }
   ],
   "source": [
    "rohan.welcome_msg()"
   ]
  },
  {
   "cell_type": "code",
   "execution_count": null,
   "id": "2d69021c-a575-4fd9-bf0c-d0c7021f6e2c",
   "metadata": {},
   "outputs": [],
   "source": [
    "gaurav=pwskills()"
   ]
  },
  {
   "cell_type": "code",
   "execution_count": null,
   "id": "9e6181dd-c165-41df-b605-1213094b0394",
   "metadata": {},
   "outputs": [],
   "source": [
    "gaurav.welcome_msg()\n"
   ]
  },
  {
   "cell_type": "code",
   "execution_count": null,
   "id": "fa2b37cf-de16-4d67-a129-829d8490ad33",
   "metadata": {},
   "outputs": [],
   "source": [
    "class sohan:\n",
    "    \n",
    "    def _init_(self ,phone_number ,email_id ,student_id ):\n",
    "        self.phone_number=phone_number\n",
    "        self.email_id=email_id\n",
    "        self.student_id=student_id\n",
    "    def return_student_deetials(self):\n",
    "        return self.student_id,self.phone_number,self.email_id\n",
    "    "
   ]
  },
  {
   "cell_type": "code",
   "execution_count": null,
   "id": "80185edb-06c4-421e-a0fc-7767064bd9b7",
   "metadata": {},
   "outputs": [],
   "source": [
    "rohan=sohan(234322442, \"rohan@gmail.com\" , 101)"
   ]
  },
  {
   "cell_type": "code",
   "execution_count": null,
   "id": "64b1cc9a-d4ac-4a46-af65-63106c4dca00",
   "metadata": {},
   "outputs": [],
   "source": [
    "rohan.return_student_deetial"
   ]
  }
 ],
 "metadata": {
  "kernelspec": {
   "display_name": "Python 3 (ipykernel)",
   "language": "python",
   "name": "python3"
  },
  "language_info": {
   "codemirror_mode": {
    "name": "ipython",
    "version": 3
   },
   "file_extension": ".py",
   "mimetype": "text/x-python",
   "name": "python",
   "nbconvert_exporter": "python",
   "pygments_lexer": "ipython3",
   "version": "3.10.8"
  }
 },
 "nbformat": 4,
 "nbformat_minor": 5
}
