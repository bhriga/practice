{
 "cells": [
  {
   "cell_type": "code",
   "execution_count": 29,
   "id": "caaff5af-7cda-4983-9084-628a31bc53d7",
   "metadata": {},
   "outputs": [],
   "source": [
    "l=[1,2,3,4,45,5]\n",
    "l1=[]\n",
    "for i in l:\n",
    "    l1.append(i**2)"
   ]
  },
  {
   "cell_type": "code",
   "execution_count": 30,
   "id": "9bed5d45-5714-4b73-80fb-0d56e9056b3e",
   "metadata": {},
   "outputs": [
    {
     "data": {
      "text/plain": [
       "[1, 4, 9, 16, 2025, 25]"
      ]
     },
     "execution_count": 30,
     "metadata": {},
     "output_type": "execute_result"
    }
   ],
   "source": [
    "l1"
   ]
  },
  {
   "cell_type": "code",
   "execution_count": null,
   "id": "4284d12c-054e-4ff2-b511-b10bcf37f621",
   "metadata": {},
   "outputs": [],
   "source": []
  },
  {
   "cell_type": "code",
   "execution_count": 31,
   "id": "cbe942e4-af42-4e1a-a2f8-819565af4800",
   "metadata": {},
   "outputs": [
    {
     "data": {
      "text/plain": [
       "[1, 2, 3, 4, 45, 5]"
      ]
     },
     "execution_count": 31,
     "metadata": {},
     "output_type": "execute_result"
    }
   ],
   "source": [
    "l"
   ]
  },
  {
   "cell_type": "code",
   "execution_count": 32,
   "id": "972a8b6e-84b6-4485-879d-a5f261221d68",
   "metadata": {},
   "outputs": [
    {
     "data": {
      "text/plain": [
       "[1, 4, 9, 16, 2025, 25]"
      ]
     },
     "execution_count": 32,
     "metadata": {},
     "output_type": "execute_result"
    }
   ],
   "source": [
    "[i**2 for i in l]"
   ]
  },
  {
   "cell_type": "code",
   "execution_count": 33,
   "id": "8db8ed2a-5f17-4f35-95cc-202e5f165fbe",
   "metadata": {},
   "outputs": [
    {
     "data": {
      "text/plain": [
       "[1, 2, 3, 4, 45, 5]"
      ]
     },
     "execution_count": 33,
     "metadata": {},
     "output_type": "execute_result"
    }
   ],
   "source": [
    "l"
   ]
  },
  {
   "cell_type": "code",
   "execution_count": 34,
   "id": "b833a9e9-d55f-4b0d-afc5-adce0d1ed7c9",
   "metadata": {},
   "outputs": [
    {
     "data": {
      "text/plain": [
       "[1, 4, 9, 16, 2025, 25]"
      ]
     },
     "execution_count": 34,
     "metadata": {},
     "output_type": "execute_result"
    }
   ],
   "source": [
    "l1"
   ]
  },
  {
   "cell_type": "code",
   "execution_count": 35,
   "id": "157fd1d7-1928-4ba6-80c1-f0c1c4026740",
   "metadata": {},
   "outputs": [
    {
     "data": {
      "text/plain": [
       "[2, 4]"
      ]
     },
     "execution_count": 35,
     "metadata": {},
     "output_type": "execute_result"
    }
   ],
   "source": [
    "[i for i in l if i%2==0]"
   ]
  },
  {
   "cell_type": "code",
   "execution_count": 36,
   "id": "ef27454e-58c4-4608-a51c-f02682743f47",
   "metadata": {},
   "outputs": [],
   "source": [
    "l1=[\"sudh\",\"pwskill\",\"kumar\",\"data science masters\"]"
   ]
  },
  {
   "cell_type": "code",
   "execution_count": 39,
   "id": "7959047a-2106-495a-b371-684b7ede7957",
   "metadata": {},
   "outputs": [
    {
     "data": {
      "text/plain": [
       "['SUDH', 'PWSKILL', 'KUMAR', 'DATA SCIENCE MASTERS']"
      ]
     },
     "execution_count": 39,
     "metadata": {},
     "output_type": "execute_result"
    }
   ],
   "source": [
    "[i.upper() for i in l1]"
   ]
  },
  {
   "cell_type": "code",
   "execution_count": 40,
   "id": "932d60cf-0804-41c9-bb0c-35e2d12bce01",
   "metadata": {},
   "outputs": [
    {
     "data": {
      "text/plain": [
       "[1, 2, 3, 4, 45, 5]"
      ]
     },
     "execution_count": 40,
     "metadata": {},
     "output_type": "execute_result"
    }
   ],
   "source": [
    "l"
   ]
  },
  {
   "cell_type": "code",
   "execution_count": 41,
   "id": "54b24a5c-5025-4322-b9dd-99179343b149",
   "metadata": {},
   "outputs": [
    {
     "data": {
      "text/plain": [
       "[1, 4, 9, 16, 2025, 25]"
      ]
     },
     "execution_count": 41,
     "metadata": {},
     "output_type": "execute_result"
    }
   ],
   "source": [
    "[i**2 for i in l]"
   ]
  },
  {
   "cell_type": "code",
   "execution_count": 42,
   "id": "d1f224d3-8fb9-47e4-8d07-912d32ebd7b1",
   "metadata": {},
   "outputs": [],
   "source": [
    "d={\"key1\":1,\"key2\":2,\"key3\":3,\"key\":4}"
   ]
  },
  {
   "cell_type": "code",
   "execution_count": 49,
   "id": "fd27ee4c-24f4-4368-8d93-84831e64f772",
   "metadata": {},
   "outputs": [
    {
     "data": {
      "text/plain": [
       "{'key1': 1, 'key2': 4, 'key3': 9, 'key': 16}"
      ]
     },
     "execution_count": 49,
     "metadata": {},
     "output_type": "execute_result"
    }
   ],
   "source": [
    "{k:v**2for k , v in d.items()}"
   ]
  },
  {
   "cell_type": "code",
   "execution_count": 50,
   "id": "d968f45b-ea69-4586-9a4f-a5e149307113",
   "metadata": {},
   "outputs": [
    {
     "data": {
      "text/plain": [
       "{'key1': 1, 'key2': 2, 'key3': 3, 'key': 4}"
      ]
     },
     "execution_count": 50,
     "metadata": {},
     "output_type": "execute_result"
    }
   ],
   "source": [
    "d"
   ]
  },
  {
   "cell_type": "code",
   "execution_count": 51,
   "id": "9fedb677-bdcc-4187-83e4-e07f8cccd7b6",
   "metadata": {},
   "outputs": [
    {
     "data": {
      "text/plain": [
       "dict_items([('key1', 1), ('key2', 2), ('key3', 3), ('key', 4)])"
      ]
     },
     "execution_count": 51,
     "metadata": {},
     "output_type": "execute_result"
    }
   ],
   "source": [
    "d.items()"
   ]
  },
  {
   "cell_type": "code",
   "execution_count": 55,
   "id": "4997b731-1be4-4fb9-ae9a-10ec4ba39c8f",
   "metadata": {},
   "outputs": [
    {
     "data": {
      "text/plain": [
       "{'key2': 2, 'key3': 3, 'key': 4}"
      ]
     },
     "execution_count": 55,
     "metadata": {},
     "output_type": "execute_result"
    }
   ],
   "source": [
    "{k:v for k,v in d.items() if v>1}"
   ]
  },
  {
   "cell_type": "code",
   "execution_count": null,
   "id": "63d817c3-7a8e-478a-8443-e38c6f2bbb25",
   "metadata": {},
   "outputs": [],
   "source": []
  }
 ],
 "metadata": {
  "kernelspec": {
   "display_name": "Python 3 (ipykernel)",
   "language": "python",
   "name": "python3"
  },
  "language_info": {
   "codemirror_mode": {
    "name": "ipython",
    "version": 3
   },
   "file_extension": ".py",
   "mimetype": "text/x-python",
   "name": "python",
   "nbconvert_exporter": "python",
   "pygments_lexer": "ipython3",
   "version": "3.10.8"
  }
 },
 "nbformat": 4,
 "nbformat_minor": 5
}
